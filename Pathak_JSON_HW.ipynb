{
  "nbformat": 4,
  "nbformat_minor": 0,
  "metadata": {
    "colab": {
      "provenance": [],
      "authorship_tag": "ABX9TyODcCDoWn1j5yrnUQp574Ha",
      "include_colab_link": true
    },
    "kernelspec": {
      "name": "python3",
      "display_name": "Python 3"
    },
    "language_info": {
      "name": "python"
    }
  },
  "cells": [
    {
      "cell_type": "markdown",
      "metadata": {
        "id": "view-in-github",
        "colab_type": "text"
      },
      "source": [
        "<a href=\"https://colab.research.google.com/github/siona-pathak/DS2002-HW/blob/main/Pathak_JSON_HW.ipynb\" target=\"_parent\"><img src=\"https://colab.research.google.com/assets/colab-badge.svg\" alt=\"Open In Colab\"/></a>"
      ]
    },
    {
      "cell_type": "code",
      "metadata": {
        "colab": {
          "base_uri": "https://localhost:8080/"
        },
        "id": "FN1sJGa3b8xW",
        "outputId": "2d448cca-67a2-450d-823e-18d436277d11"
      },
      "source": [
        "import pandas as pd\n",
        "import requests\n",
        "import json\n",
        "url = 'https://raw.githubusercontent.com/jasonwnc/ds2002s24/main/2.%20Python/coll%20bb_SortByConf.json'\n",
        "data = requests.get(url)\n",
        "\n",
        "basketball = json.loads(data.text)\n",
        "\n",
        "#creating datafrane\n",
        "basketball_df= pd.DataFrame(basketball['teams'])\n",
        "\n",
        "\n",
        "#printing first 100 rows\n",
        "print(basketball_df.head(100))\n",
        "\n"
      ],
      "execution_count": 63,
      "outputs": [
        {
          "output_type": "stream",
          "name": "stdout",
          "text": [
            "    tid  cid  did                region       name  abbrev  pop  \\\n",
            "0   159    0    0        Boston College     Eagles      BC  161   \n",
            "1   105    0    0               Clemson     Tigers    CLEM  215   \n",
            "2   109    0    0         Florida State  Seminoles     FSU  211   \n",
            "3    18    0    0            Louisville  Cardinals      UL  302   \n",
            "4    31    0    0  North Carolina State   Wolfpack    NCST  289   \n",
            "..  ...  ...  ...                   ...        ...     ...  ...   \n",
            "95  300    5   11    Jacksonville State  Gamecocks  JVILLE   20   \n",
            "96   72    6   12    Eastern Washington     Eagles   EWASH  248   \n",
            "97  139    6   12      Sacramento State    Hornets   SACST  181   \n",
            "98  239    6   12     Northern Colorado      Bears   NOCOL   81   \n",
            "99  266    6   12                 Idaho    Vandals      UI   54   \n",
            "\n",
            "             city state  latitude  longitude  \n",
            "0   Chestnut Hill    MA    42.330    -71.166  \n",
            "1         Clemson    SC    34.678    -82.839  \n",
            "2     Tallahassee    FL    30.442    -84.298  \n",
            "3      Louisville    KY    38.250    -85.766  \n",
            "4         Raleigh    NC    35.786    -78.682  \n",
            "..            ...   ...       ...        ...  \n",
            "95   Jacksonville    AL    33.815    -85.760  \n",
            "96         Cheney    WA    47.488   -117.578  \n",
            "97     Sacramento    CA    38.555   -121.468  \n",
            "98        Greeley    CO    40.416   -104.716  \n",
            "99         Moscow    ID    46.730   -117.000  \n",
            "\n",
            "[100 rows x 11 columns]\n"
          ]
        }
      ]
    },
    {
      "cell_type": "code",
      "source": [
        "# Question 1 - total teams\n",
        "\n",
        "print(len(basketball['teams']))"
      ],
      "metadata": {
        "colab": {
          "base_uri": "https://localhost:8080/"
        },
        "id": "RRIqOIKUdGgC",
        "outputId": "64646f62-c9e6-4bb5-bce1-daa9a6565751"
      },
      "execution_count": 64,
      "outputs": [
        {
          "output_type": "stream",
          "name": "stdout",
          "text": [
            "320\n"
          ]
        }
      ]
    },
    {
      "cell_type": "code",
      "source": [
        "# Question 2 - teams in Virginia\n",
        "print(len(basketball_df[basketball_df['state'] == \"VA\"]))"
      ],
      "metadata": {
        "colab": {
          "base_uri": "https://localhost:8080/"
        },
        "id": "ePFuMbfv-EFM",
        "outputId": "84fe23c0-4acb-4b06-ef18-c874779e57a1"
      },
      "execution_count": 65,
      "outputs": [
        {
          "output_type": "stream",
          "name": "stdout",
          "text": [
            "13\n"
          ]
        }
      ]
    },
    {
      "cell_type": "code",
      "source": [
        "# Question 3 - mascots and occurrences\n",
        "temp_df = basketball_df.groupby(\"name\").count()\n",
        "temp_df[temp_df[\"tid\"] > 1][\"tid\"]"
      ],
      "metadata": {
        "colab": {
          "base_uri": "https://localhost:8080/"
        },
        "id": "0dncEKJb-4GI",
        "outputId": "f534e3fa-f53f-48d6-f767-54aa70a30cc3"
      },
      "execution_count": 66,
      "outputs": [
        {
          "output_type": "execute_result",
          "data": {
            "text/plain": [
              "name\n",
              "49ers             2\n",
              "Aggies            4\n",
              "Bears             4\n",
              "Bison             2\n",
              "Bisons            2\n",
              "Bobcats           3\n",
              "Broncos           3\n",
              "Bruins            2\n",
              "Buccaneers        2\n",
              "Bulldogs         13\n",
              "Bulls             2\n",
              "Cardinals         4\n",
              "Catamounts        2\n",
              "Colonials         2\n",
              "Cougars           4\n",
              "Cowboys           3\n",
              "Crusaders         2\n",
              "Dukes             2\n",
              "Eagles           10\n",
              "Falcons           2\n",
              "Gaels             2\n",
              "Gamecocks         2\n",
              "Golden Eagles     4\n",
              "Hawks             4\n",
              "Highlanders       2\n",
              "Hornets           3\n",
              "Huskies           5\n",
              "Jaguars           3\n",
              "Knights           2\n",
              "Lions             2\n",
              "Lumberjacks       2\n",
              "Mavericks         2\n",
              "Mountaineers      3\n",
              "Mustangs          2\n",
              "Owls              4\n",
              "Panthers          8\n",
              "Phoenix           2\n",
              "Pioneers          2\n",
              "Pirates           3\n",
              "Raiders           2\n",
              "Rams              4\n",
              "Rebels            2\n",
              "Redhawks          3\n",
              "Roadrunners       2\n",
              "Spartans          4\n",
              "Terriers          3\n",
              "Tigers            9\n",
              "Titans            2\n",
              "Trojans           3\n",
              "Vikings           3\n",
              "Wildcats          8\n",
              "Wolverines        2\n",
              "Name: tid, dtype: int64"
            ]
          },
          "metadata": {},
          "execution_count": 66
        }
      ]
    }
  ]
}