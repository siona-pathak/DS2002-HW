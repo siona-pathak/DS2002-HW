{
  "nbformat": 4,
  "nbformat_minor": 0,
  "metadata": {
    "colab": {
      "provenance": [],
      "authorship_tag": "ABX9TyPsrXbyJt/wty21cWSh/vKZ",
      "include_colab_link": true
    },
    "kernelspec": {
      "name": "python3",
      "display_name": "Python 3"
    },
    "language_info": {
      "name": "python"
    }
  },
  "cells": [
    {
      "cell_type": "markdown",
      "metadata": {
        "id": "view-in-github",
        "colab_type": "text"
      },
      "source": [
        "<a href=\"https://colab.research.google.com/github/siona-pathak/DS2002-HW/blob/main/API_HW.ipynb\" target=\"_parent\"><img src=\"https://colab.research.google.com/assets/colab-badge.svg\" alt=\"Open In Colab\"/></a>"
      ]
    },
    {
      "cell_type": "code",
      "source": [
        "import os\n",
        "import json\n",
        "import pprint\n",
        "import requests.exceptions\n",
        "import pandas as pd"
      ],
      "metadata": {
        "id": "f8usNd-u1sZC"
      },
      "execution_count": null,
      "outputs": []
    },
    {
      "cell_type": "code",
      "source": [
        "api_url = \"https://restcountries.com/v3.1/name/\"\n",
        "data_file_path = \"country_info.json\"\n",
        "\n",
        "def main():\n",
        "    while True:\n",
        "        name_of_country = input(\"Country Name (or enter 'quit' to Quit): \").strip().lower()\n",
        "        if name_of_country == 'quit':\n",
        "            break\n",
        "        try:\n",
        "            country_data = fetch_country_data(name_of_country)\n",
        "            if country_data:\n",
        "                display_country_info(country_data)\n",
        "                append_data_to_json(country_data)\n",
        "            else:\n",
        "                print(\"Country not found or an error occurred. Please try again.\")\n",
        "        except requests.exceptions.HTTPError as errh:\n",
        "            print(\"An HTTP Error occurred:\", repr(errh))\n",
        "        except requests.exceptions.ConnectionError as errc:\n",
        "            print(\"An Error Connecting To The API Occurred:\", repr(errc))\n",
        "        except requests.exceptions.Timeout as errt:\n",
        "            print(\"A Timeout Error occurred:\", repr(errt))\n",
        "        except requests.exceptions.RequestException as err:\n",
        "            print(\"An Unknown Error occurred:\", repr(err))\n",
        "\n",
        "def return_country_data(name_of_country):\n",
        "    url = api_url + name_of_country\n",
        "    response = requests.get(url)\n",
        "    response.raise_for_status()\n",
        "    countries = response.json()\n",
        "    for country in countries:\n",
        "        if any(name_of_country == name.lower() for name in [country['name']['common'], country['name']['official']]):\n",
        "            return {\n",
        "                'Country': country['name']['common'],\n",
        "                'Capital': country.get('capital', ['No Capital'])[0],\n",
        "                'Population': country.get('population', 'N/A')\n",
        "            }\n",
        "    return None\n",
        "\n",
        "\n",
        "def append_data_to_json(country_data):\n",
        "    try:\n",
        "        existing_df = pd.read_json(data_file_path)\n",
        "    except (ValueError, FileNotFoundError):\n",
        "        existing_df = pd.DataFrame()\n",
        "\n",
        "    new_df = pd.DataFrame([country_data])\n",
        "    updated_df = pd.concat([existing_df, new_df], ignore_index=True)\n",
        "    updated_df.to_json(data_file_path, orient='records')\n",
        "\n",
        "def display_country_info(country_data):\n",
        "    print(f\"Country: {country_data['Country']}\")\n",
        "    print(f\"Capital: {country_data['Capital']}\")\n",
        "    print(f\"Population: {country_data['Population']}\")\n",
        "\n",
        "if __name__ == \"__main__\":\n",
        "     main()\n",
        "\n"
      ],
      "metadata": {
        "id": "C6reOi7dbSJL"
      },
      "execution_count": null,
      "outputs": []
    },
    {
      "cell_type": "markdown",
      "source": [],
      "metadata": {
        "id": "4IB1jZd_bOfU"
      }
    }
  ]
}